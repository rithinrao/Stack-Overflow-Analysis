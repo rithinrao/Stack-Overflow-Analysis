{
  "nbformat": 4,
  "nbformat_minor": 0,
  "metadata": {
    "colab": {
      "name": "Group Project Adv Machine Learning.ipynb",
      "provenance": [],
      "collapsed_sections": [],
      "include_colab_link": true
    },
    "kernelspec": {
      "name": "python3",
      "display_name": "Python 3"
    }
  },
  "cells": [
    {
      "cell_type": "markdown",
      "metadata": {
        "id": "view-in-github",
        "colab_type": "text"
      },
      "source": [
        "<a href=\"https://colab.research.google.com/github/rithinrao/Stack-Overflow-Analysis/blob/main/Group_Project_Adv_Machine_Learning.ipynb\" target=\"_parent\"><img src=\"https://colab.research.google.com/assets/colab-badge.svg\" alt=\"Open In Colab\"/></a>"
      ]
    },
    {
      "cell_type": "markdown",
      "metadata": {
        "id": "ZT39ETm4LDtF"
      },
      "source": [
        "This Mounts the files to the drive\n"
      ]
    },
    {
      "cell_type": "code",
      "metadata": {
        "id": "5dTCoYinGLMJ",
        "colab": {
          "base_uri": "https://localhost:8080/",
          "height": 34
        },
        "outputId": "102c347c-9533-4116-84b2-4ed18f7ed924"
      },
      "source": [
        "from google.colab import drive\n",
        "drive.mount('/content/drive')"
      ],
      "execution_count": null,
      "outputs": [
        {
          "output_type": "stream",
          "text": [
            "Drive already mounted at /content/drive; to attempt to forcibly remount, call drive.mount(\"/content/drive\", force_remount=True).\n"
          ],
          "name": "stdout"
        }
      ]
    },
    {
      "cell_type": "markdown",
      "metadata": {
        "id": "TDBGKEDaLOC-"
      },
      "source": [
        "Then we load the data and the glove model"
      ]
    },
    {
      "cell_type": "code",
      "metadata": {
        "id": "gaSL3Ya-Gnrd",
        "colab": {
          "base_uri": "https://localhost:8080/",
          "height": 457
        },
        "outputId": "e3a664e3-0515-4bce-fcea-d472d8051273"
      },
      "source": [
        "import pandas as pd\n",
        "questions = pd.read_csv('/content/drive/My Drive/Analytics in Practice Project/NeuralNetworkStuff/PythonQuestions.csv',index_col=False)\n",
        "glove = f = open('/content/drive/My Drive/Analytics in Practice Project/NeuralNetworkStuff/glove.6B.100d.txt' , encoding='utf-8')"
      ],
      "execution_count": null,
      "outputs": [
        {
          "output_type": "error",
          "ename": "FileNotFoundError",
          "evalue": "ignored",
          "traceback": [
            "\u001b[0;31m---------------------------------------------------------------------------\u001b[0m",
            "\u001b[0;31mFileNotFoundError\u001b[0m                         Traceback (most recent call last)",
            "\u001b[0;32m<ipython-input-2-5689b34b0207>\u001b[0m in \u001b[0;36m<module>\u001b[0;34m()\u001b[0m\n\u001b[1;32m      1\u001b[0m \u001b[0;32mimport\u001b[0m \u001b[0mpandas\u001b[0m \u001b[0;32mas\u001b[0m \u001b[0mpd\u001b[0m\u001b[0;34m\u001b[0m\u001b[0;34m\u001b[0m\u001b[0m\n\u001b[0;32m----> 2\u001b[0;31m \u001b[0mquestions\u001b[0m \u001b[0;34m=\u001b[0m \u001b[0mpd\u001b[0m\u001b[0;34m.\u001b[0m\u001b[0mread_csv\u001b[0m\u001b[0;34m(\u001b[0m\u001b[0;34m'/content/drive/My Drive/Analytics in Practice Project/NeuralNetworkStuff/PythonQuestions.csv'\u001b[0m\u001b[0;34m,\u001b[0m\u001b[0mindex_col\u001b[0m\u001b[0;34m=\u001b[0m\u001b[0;32mFalse\u001b[0m\u001b[0;34m)\u001b[0m\u001b[0;34m\u001b[0m\u001b[0;34m\u001b[0m\u001b[0m\n\u001b[0m\u001b[1;32m      3\u001b[0m \u001b[0mglove\u001b[0m \u001b[0;34m=\u001b[0m \u001b[0mf\u001b[0m \u001b[0;34m=\u001b[0m \u001b[0mopen\u001b[0m\u001b[0;34m(\u001b[0m\u001b[0;34m'/content/drive/My Drive/Analytics in Practice Project/NeuralNetworkStuff/glove.6B.100d.txt'\u001b[0m \u001b[0;34m,\u001b[0m \u001b[0mencoding\u001b[0m\u001b[0;34m=\u001b[0m\u001b[0;34m'utf-8'\u001b[0m\u001b[0;34m)\u001b[0m\u001b[0;34m\u001b[0m\u001b[0;34m\u001b[0m\u001b[0m\n",
            "\u001b[0;32m/usr/local/lib/python3.6/dist-packages/pandas/io/parsers.py\u001b[0m in \u001b[0;36mparser_f\u001b[0;34m(filepath_or_buffer, sep, delimiter, header, names, index_col, usecols, squeeze, prefix, mangle_dupe_cols, dtype, engine, converters, true_values, false_values, skipinitialspace, skiprows, skipfooter, nrows, na_values, keep_default_na, na_filter, verbose, skip_blank_lines, parse_dates, infer_datetime_format, keep_date_col, date_parser, dayfirst, cache_dates, iterator, chunksize, compression, thousands, decimal, lineterminator, quotechar, quoting, doublequote, escapechar, comment, encoding, dialect, error_bad_lines, warn_bad_lines, delim_whitespace, low_memory, memory_map, float_precision)\u001b[0m\n\u001b[1;32m    674\u001b[0m         )\n\u001b[1;32m    675\u001b[0m \u001b[0;34m\u001b[0m\u001b[0m\n\u001b[0;32m--> 676\u001b[0;31m         \u001b[0;32mreturn\u001b[0m \u001b[0m_read\u001b[0m\u001b[0;34m(\u001b[0m\u001b[0mfilepath_or_buffer\u001b[0m\u001b[0;34m,\u001b[0m \u001b[0mkwds\u001b[0m\u001b[0;34m)\u001b[0m\u001b[0;34m\u001b[0m\u001b[0;34m\u001b[0m\u001b[0m\n\u001b[0m\u001b[1;32m    677\u001b[0m \u001b[0;34m\u001b[0m\u001b[0m\n\u001b[1;32m    678\u001b[0m     \u001b[0mparser_f\u001b[0m\u001b[0;34m.\u001b[0m\u001b[0m__name__\u001b[0m \u001b[0;34m=\u001b[0m \u001b[0mname\u001b[0m\u001b[0;34m\u001b[0m\u001b[0;34m\u001b[0m\u001b[0m\n",
            "\u001b[0;32m/usr/local/lib/python3.6/dist-packages/pandas/io/parsers.py\u001b[0m in \u001b[0;36m_read\u001b[0;34m(filepath_or_buffer, kwds)\u001b[0m\n\u001b[1;32m    446\u001b[0m \u001b[0;34m\u001b[0m\u001b[0m\n\u001b[1;32m    447\u001b[0m     \u001b[0;31m# Create the parser.\u001b[0m\u001b[0;34m\u001b[0m\u001b[0;34m\u001b[0m\u001b[0;34m\u001b[0m\u001b[0m\n\u001b[0;32m--> 448\u001b[0;31m     \u001b[0mparser\u001b[0m \u001b[0;34m=\u001b[0m \u001b[0mTextFileReader\u001b[0m\u001b[0;34m(\u001b[0m\u001b[0mfp_or_buf\u001b[0m\u001b[0;34m,\u001b[0m \u001b[0;34m**\u001b[0m\u001b[0mkwds\u001b[0m\u001b[0;34m)\u001b[0m\u001b[0;34m\u001b[0m\u001b[0;34m\u001b[0m\u001b[0m\n\u001b[0m\u001b[1;32m    449\u001b[0m \u001b[0;34m\u001b[0m\u001b[0m\n\u001b[1;32m    450\u001b[0m     \u001b[0;32mif\u001b[0m \u001b[0mchunksize\u001b[0m \u001b[0;32mor\u001b[0m \u001b[0miterator\u001b[0m\u001b[0;34m:\u001b[0m\u001b[0;34m\u001b[0m\u001b[0;34m\u001b[0m\u001b[0m\n",
            "\u001b[0;32m/usr/local/lib/python3.6/dist-packages/pandas/io/parsers.py\u001b[0m in \u001b[0;36m__init__\u001b[0;34m(self, f, engine, **kwds)\u001b[0m\n\u001b[1;32m    878\u001b[0m             \u001b[0mself\u001b[0m\u001b[0;34m.\u001b[0m\u001b[0moptions\u001b[0m\u001b[0;34m[\u001b[0m\u001b[0;34m\"has_index_names\"\u001b[0m\u001b[0;34m]\u001b[0m \u001b[0;34m=\u001b[0m \u001b[0mkwds\u001b[0m\u001b[0;34m[\u001b[0m\u001b[0;34m\"has_index_names\"\u001b[0m\u001b[0;34m]\u001b[0m\u001b[0;34m\u001b[0m\u001b[0;34m\u001b[0m\u001b[0m\n\u001b[1;32m    879\u001b[0m \u001b[0;34m\u001b[0m\u001b[0m\n\u001b[0;32m--> 880\u001b[0;31m         \u001b[0mself\u001b[0m\u001b[0;34m.\u001b[0m\u001b[0m_make_engine\u001b[0m\u001b[0;34m(\u001b[0m\u001b[0mself\u001b[0m\u001b[0;34m.\u001b[0m\u001b[0mengine\u001b[0m\u001b[0;34m)\u001b[0m\u001b[0;34m\u001b[0m\u001b[0;34m\u001b[0m\u001b[0m\n\u001b[0m\u001b[1;32m    881\u001b[0m \u001b[0;34m\u001b[0m\u001b[0m\n\u001b[1;32m    882\u001b[0m     \u001b[0;32mdef\u001b[0m \u001b[0mclose\u001b[0m\u001b[0;34m(\u001b[0m\u001b[0mself\u001b[0m\u001b[0;34m)\u001b[0m\u001b[0;34m:\u001b[0m\u001b[0;34m\u001b[0m\u001b[0;34m\u001b[0m\u001b[0m\n",
            "\u001b[0;32m/usr/local/lib/python3.6/dist-packages/pandas/io/parsers.py\u001b[0m in \u001b[0;36m_make_engine\u001b[0;34m(self, engine)\u001b[0m\n\u001b[1;32m   1112\u001b[0m     \u001b[0;32mdef\u001b[0m \u001b[0m_make_engine\u001b[0m\u001b[0;34m(\u001b[0m\u001b[0mself\u001b[0m\u001b[0;34m,\u001b[0m \u001b[0mengine\u001b[0m\u001b[0;34m=\u001b[0m\u001b[0;34m\"c\"\u001b[0m\u001b[0;34m)\u001b[0m\u001b[0;34m:\u001b[0m\u001b[0;34m\u001b[0m\u001b[0;34m\u001b[0m\u001b[0m\n\u001b[1;32m   1113\u001b[0m         \u001b[0;32mif\u001b[0m \u001b[0mengine\u001b[0m \u001b[0;34m==\u001b[0m \u001b[0;34m\"c\"\u001b[0m\u001b[0;34m:\u001b[0m\u001b[0;34m\u001b[0m\u001b[0;34m\u001b[0m\u001b[0m\n\u001b[0;32m-> 1114\u001b[0;31m             \u001b[0mself\u001b[0m\u001b[0;34m.\u001b[0m\u001b[0m_engine\u001b[0m \u001b[0;34m=\u001b[0m \u001b[0mCParserWrapper\u001b[0m\u001b[0;34m(\u001b[0m\u001b[0mself\u001b[0m\u001b[0;34m.\u001b[0m\u001b[0mf\u001b[0m\u001b[0;34m,\u001b[0m \u001b[0;34m**\u001b[0m\u001b[0mself\u001b[0m\u001b[0;34m.\u001b[0m\u001b[0moptions\u001b[0m\u001b[0;34m)\u001b[0m\u001b[0;34m\u001b[0m\u001b[0;34m\u001b[0m\u001b[0m\n\u001b[0m\u001b[1;32m   1115\u001b[0m         \u001b[0;32melse\u001b[0m\u001b[0;34m:\u001b[0m\u001b[0;34m\u001b[0m\u001b[0;34m\u001b[0m\u001b[0m\n\u001b[1;32m   1116\u001b[0m             \u001b[0;32mif\u001b[0m \u001b[0mengine\u001b[0m \u001b[0;34m==\u001b[0m \u001b[0;34m\"python\"\u001b[0m\u001b[0;34m:\u001b[0m\u001b[0;34m\u001b[0m\u001b[0;34m\u001b[0m\u001b[0m\n",
            "\u001b[0;32m/usr/local/lib/python3.6/dist-packages/pandas/io/parsers.py\u001b[0m in \u001b[0;36m__init__\u001b[0;34m(self, src, **kwds)\u001b[0m\n\u001b[1;32m   1889\u001b[0m         \u001b[0mkwds\u001b[0m\u001b[0;34m[\u001b[0m\u001b[0;34m\"usecols\"\u001b[0m\u001b[0;34m]\u001b[0m \u001b[0;34m=\u001b[0m \u001b[0mself\u001b[0m\u001b[0;34m.\u001b[0m\u001b[0musecols\u001b[0m\u001b[0;34m\u001b[0m\u001b[0;34m\u001b[0m\u001b[0m\n\u001b[1;32m   1890\u001b[0m \u001b[0;34m\u001b[0m\u001b[0m\n\u001b[0;32m-> 1891\u001b[0;31m         \u001b[0mself\u001b[0m\u001b[0;34m.\u001b[0m\u001b[0m_reader\u001b[0m \u001b[0;34m=\u001b[0m \u001b[0mparsers\u001b[0m\u001b[0;34m.\u001b[0m\u001b[0mTextReader\u001b[0m\u001b[0;34m(\u001b[0m\u001b[0msrc\u001b[0m\u001b[0;34m,\u001b[0m \u001b[0;34m**\u001b[0m\u001b[0mkwds\u001b[0m\u001b[0;34m)\u001b[0m\u001b[0;34m\u001b[0m\u001b[0;34m\u001b[0m\u001b[0m\n\u001b[0m\u001b[1;32m   1892\u001b[0m         \u001b[0mself\u001b[0m\u001b[0;34m.\u001b[0m\u001b[0munnamed_cols\u001b[0m \u001b[0;34m=\u001b[0m \u001b[0mself\u001b[0m\u001b[0;34m.\u001b[0m\u001b[0m_reader\u001b[0m\u001b[0;34m.\u001b[0m\u001b[0munnamed_cols\u001b[0m\u001b[0;34m\u001b[0m\u001b[0;34m\u001b[0m\u001b[0m\n\u001b[1;32m   1893\u001b[0m \u001b[0;34m\u001b[0m\u001b[0m\n",
            "\u001b[0;32mpandas/_libs/parsers.pyx\u001b[0m in \u001b[0;36mpandas._libs.parsers.TextReader.__cinit__\u001b[0;34m()\u001b[0m\n",
            "\u001b[0;32mpandas/_libs/parsers.pyx\u001b[0m in \u001b[0;36mpandas._libs.parsers.TextReader._setup_parser_source\u001b[0;34m()\u001b[0m\n",
            "\u001b[0;31mFileNotFoundError\u001b[0m: [Errno 2] File /content/drive/My Drive/Analytics in Practice Project/NeuralNetworkStuff/PythonQuestions.csv does not exist: '/content/drive/My Drive/Analytics in Practice Project/NeuralNetworkStuff/PythonQuestions.csv'"
          ]
        }
      ]
    },
    {
      "cell_type": "code",
      "metadata": {
        "id": "XtOqcuYaXZUs",
        "colab": {
          "base_uri": "https://localhost:8080/",
          "height": 425
        },
        "outputId": "3c7f9f41-ccf8-436f-958a-d58d3ca1d50d"
      },
      "source": [
        "for col in questions.columns: \n",
        "    print(col) \n",
        "\n",
        "print(questions.head())"
      ],
      "execution_count": null,
      "outputs": [
        {
          "output_type": "stream",
          "text": [
            "question_id\n",
            "title\n",
            "ower_rep\n",
            "user_type\n",
            "accept_rate\n",
            "is_answered\n",
            "answer_id\n",
            "view_count\n",
            "answer_count\n",
            "score\n",
            "tags\n",
            "created_date\n",
            "edited_date\n",
            "activity_date\n",
            "closed_date\n",
            "closed_reason\n",
            "   question_id  ...  closed_reason\n",
            "0          337  ...  Opinion-based\n",
            "1          469  ...            NaN\n",
            "2          502  ...            NaN\n",
            "3          535  ...            NaN\n",
            "4          594  ...            NaN\n",
            "\n",
            "[5 rows x 16 columns]\n"
          ],
          "name": "stdout"
        }
      ]
    },
    {
      "cell_type": "code",
      "metadata": {
        "id": "VQPbipjgb7XV",
        "colab": {
          "base_uri": "https://localhost:8080/",
          "height": 297
        },
        "outputId": "97620f9e-166e-435a-dc57-05e10a7b756f"
      },
      "source": [
        "questions.describe()"
      ],
      "execution_count": null,
      "outputs": [
        {
          "output_type": "execute_result",
          "data": {
            "text/html": [
              "<div>\n",
              "<style scoped>\n",
              "    .dataframe tbody tr th:only-of-type {\n",
              "        vertical-align: middle;\n",
              "    }\n",
              "\n",
              "    .dataframe tbody tr th {\n",
              "        vertical-align: top;\n",
              "    }\n",
              "\n",
              "    .dataframe thead th {\n",
              "        text-align: right;\n",
              "    }\n",
              "</style>\n",
              "<table border=\"1\" class=\"dataframe\">\n",
              "  <thead>\n",
              "    <tr style=\"text-align: right;\">\n",
              "      <th></th>\n",
              "      <th>question_id</th>\n",
              "      <th>ower_rep</th>\n",
              "      <th>accept_rate</th>\n",
              "      <th>is_answered</th>\n",
              "      <th>answer_id</th>\n",
              "      <th>view_count</th>\n",
              "      <th>answer_count</th>\n",
              "      <th>score</th>\n",
              "      <th>created_date</th>\n",
              "      <th>edited_date</th>\n",
              "      <th>activity_date</th>\n",
              "      <th>closed_date</th>\n",
              "    </tr>\n",
              "  </thead>\n",
              "  <tbody>\n",
              "    <tr>\n",
              "      <th>count</th>\n",
              "      <td>5.471430e+05</td>\n",
              "      <td>537351.000000</td>\n",
              "      <td>412731.000000</td>\n",
              "      <td>547143.000000</td>\n",
              "      <td>3.403520e+05</td>\n",
              "      <td>5.471430e+05</td>\n",
              "      <td>547143.000000</td>\n",
              "      <td>547143.000000</td>\n",
              "      <td>5.471430e+05</td>\n",
              "      <td>3.184760e+05</td>\n",
              "      <td>5.471430e+05</td>\n",
              "      <td>3.208500e+04</td>\n",
              "    </tr>\n",
              "    <tr>\n",
              "      <th>mean</th>\n",
              "      <td>2.171918e+07</td>\n",
              "      <td>5837.821033</td>\n",
              "      <td>69.784661</td>\n",
              "      <td>0.818391</td>\n",
              "      <td>2.041483e+07</td>\n",
              "      <td>5.445519e+03</td>\n",
              "      <td>1.840137</td>\n",
              "      <td>4.857611</td>\n",
              "      <td>1.388255e+09</td>\n",
              "      <td>1.413676e+09</td>\n",
              "      <td>1.417130e+09</td>\n",
              "      <td>1.416212e+09</td>\n",
              "    </tr>\n",
              "    <tr>\n",
              "      <th>std</th>\n",
              "      <td>1.127066e+07</td>\n",
              "      <td>21375.110921</td>\n",
              "      <td>22.283603</td>\n",
              "      <td>0.385522</td>\n",
              "      <td>1.095812e+07</td>\n",
              "      <td>4.270934e+04</td>\n",
              "      <td>1.738778</td>\n",
              "      <td>44.303655</td>\n",
              "      <td>5.978182e+07</td>\n",
              "      <td>6.716346e+07</td>\n",
              "      <td>7.076134e+07</td>\n",
              "      <td>6.139365e+07</td>\n",
              "    </tr>\n",
              "    <tr>\n",
              "      <th>min</th>\n",
              "      <td>3.370000e+02</td>\n",
              "      <td>1.000000</td>\n",
              "      <td>0.000000</td>\n",
              "      <td>0.000000</td>\n",
              "      <td>3.420000e+02</td>\n",
              "      <td>2.000000e+00</td>\n",
              "      <td>0.000000</td>\n",
              "      <td>-64.000000</td>\n",
              "      <td>1.217648e+09</td>\n",
              "      <td>1.218145e+09</td>\n",
              "      <td>1.220643e+09</td>\n",
              "      <td>1.222724e+09</td>\n",
              "    </tr>\n",
              "    <tr>\n",
              "      <th>25%</th>\n",
              "      <td>1.319430e+07</td>\n",
              "      <td>93.000000</td>\n",
              "      <td>58.000000</td>\n",
              "      <td>1.000000</td>\n",
              "      <td>1.153286e+07</td>\n",
              "      <td>1.540000e+02</td>\n",
              "      <td>1.000000</td>\n",
              "      <td>0.000000</td>\n",
              "      <td>1.351855e+09</td>\n",
              "      <td>1.370985e+09</td>\n",
              "      <td>1.372882e+09</td>\n",
              "      <td>1.375988e+09</td>\n",
              "    </tr>\n",
              "    <tr>\n",
              "      <th>50%</th>\n",
              "      <td>2.259895e+07</td>\n",
              "      <td>663.000000</td>\n",
              "      <td>74.000000</td>\n",
              "      <td>1.000000</td>\n",
              "      <td>2.108285e+07</td>\n",
              "      <td>6.180000e+02</td>\n",
              "      <td>1.000000</td>\n",
              "      <td>1.000000</td>\n",
              "      <td>1.395620e+09</td>\n",
              "      <td>1.416916e+09</td>\n",
              "      <td>1.416599e+09</td>\n",
              "      <td>1.407887e+09</td>\n",
              "    </tr>\n",
              "    <tr>\n",
              "      <th>75%</th>\n",
              "      <td>3.025229e+07</td>\n",
              "      <td>3289.000000</td>\n",
              "      <td>86.000000</td>\n",
              "      <td>1.000000</td>\n",
              "      <td>2.932263e+07</td>\n",
              "      <td>2.022000e+03</td>\n",
              "      <td>2.000000</td>\n",
              "      <td>3.000000</td>\n",
              "      <td>1.431669e+09</td>\n",
              "      <td>1.451053e+09</td>\n",
              "      <td>1.450497e+09</td>\n",
              "      <td>1.446028e+09</td>\n",
              "    </tr>\n",
              "    <tr>\n",
              "      <th>max</th>\n",
              "      <td>6.033118e+07</td>\n",
              "      <td>793640.000000</td>\n",
              "      <td>100.000000</td>\n",
              "      <td>1.000000</td>\n",
              "      <td>6.033083e+07</td>\n",
              "      <td>4.190047e+06</td>\n",
              "      <td>191.000000</td>\n",
              "      <td>9876.000000</td>\n",
              "      <td>1.582251e+09</td>\n",
              "      <td>1.582251e+09</td>\n",
              "      <td>1.582251e+09</td>\n",
              "      <td>1.582250e+09</td>\n",
              "    </tr>\n",
              "  </tbody>\n",
              "</table>\n",
              "</div>"
            ],
            "text/plain": [
              "        question_id       ower_rep  ...  activity_date   closed_date\n",
              "count  5.471430e+05  537351.000000  ...   5.471430e+05  3.208500e+04\n",
              "mean   2.171918e+07    5837.821033  ...   1.417130e+09  1.416212e+09\n",
              "std    1.127066e+07   21375.110921  ...   7.076134e+07  6.139365e+07\n",
              "min    3.370000e+02       1.000000  ...   1.220643e+09  1.222724e+09\n",
              "25%    1.319430e+07      93.000000  ...   1.372882e+09  1.375988e+09\n",
              "50%    2.259895e+07     663.000000  ...   1.416599e+09  1.407887e+09\n",
              "75%    3.025229e+07    3289.000000  ...   1.450497e+09  1.446028e+09\n",
              "max    6.033118e+07  793640.000000  ...   1.582251e+09  1.582250e+09\n",
              "\n",
              "[8 rows x 12 columns]"
            ]
          },
          "metadata": {
            "tags": []
          },
          "execution_count": 45
        }
      ]
    },
    {
      "cell_type": "code",
      "metadata": {
        "id": "mu3jhfaMtCY0",
        "colab": {
          "base_uri": "https://localhost:8080/",
          "height": 34
        },
        "outputId": "4ddd8db7-23f4-480f-c0cd-d1d50ea304dd"
      },
      "source": [
        "import keras\n",
        "keras.__version__"
      ],
      "execution_count": null,
      "outputs": [
        {
          "output_type": "execute_result",
          "data": {
            "text/plain": [
              "'2.3.1'"
            ]
          },
          "metadata": {
            "tags": []
          },
          "execution_count": 46
        }
      ]
    },
    {
      "cell_type": "code",
      "metadata": {
        "id": "tBZgFetMtNUg"
      },
      "source": [
        "from keras.layers import Embedding\n",
        "\n",
        "# The Embedding layer takes at least two arguments:\n",
        "# the number of possible tokens, here 1000 (1 + maximum word index),\n",
        "# and the dimensionality of the embeddings, here 64.\n",
        "embedding_layer = Embedding(1000, 64)"
      ],
      "execution_count": null,
      "outputs": []
    },
    {
      "cell_type": "markdown",
      "metadata": {
        "id": "zzWzhyDrvOW_"
      },
      "source": [
        "In this section we take the title of the question and tokenize it so we can use it for training and validation. The plan it to use a pretrained embedding layer to complement our model.\n",
        "\n",
        "The goal is to predict if a question will be answered based on the title of the question"
      ]
    },
    {
      "cell_type": "code",
      "metadata": {
        "id": "jocQ6G9NtRW1",
        "colab": {
          "base_uri": "https://localhost:8080/",
          "height": 68
        },
        "outputId": "1796cc05-539d-47a4-eae7-60dc78af3a5f"
      },
      "source": [
        "from keras.preprocessing.text import Tokenizer\n",
        "from keras.preprocessing.sequence import pad_sequences\n",
        "import numpy as np\n",
        "\n",
        "\n",
        "maxlen = 25  # We will cut title after 25 words\n",
        "training_samples = 20000  # We will be training on 20k samples\n",
        "validation_samples = 10000  # We will be validating on 10k samples\n",
        "max_words = 10000  # We will only consider the top 10,000 words in the dataset\n",
        "\n",
        "\n",
        "#load the question title and the boolean answer\n",
        "texts = questions['title']\n",
        "labels = questions['is_answered']\n",
        "\n",
        "\n",
        "#build the tokenizers\n",
        "tokenizer = Tokenizer(num_words=max_words)\n",
        "tokenizer.fit_on_texts(texts)\n",
        "sequences = tokenizer.texts_to_sequences(texts)\n",
        "\n",
        "word_index = tokenizer.word_index\n",
        "print('Found %s unique tokens.' % len(word_index))\n",
        "\n",
        "data = pad_sequences(sequences, maxlen=maxlen)\n",
        "\n",
        "labels = np.asarray(labels)\n",
        "print('Shape of data tensor:', data.shape)\n",
        "print('Shape of label tensor:', labels.shape)\n",
        "\n",
        "\n",
        "\n",
        "\n",
        "\n",
        "\n",
        "# Split the data into a training set and a validation set\n",
        "\n",
        "indices = np.arange(data.shape[0])\n",
        "np.random.shuffle(indices)\n",
        "data = data[indices]\n",
        "labels = labels[indices]\n",
        "\n",
        "x_train = data[:training_samples]\n",
        "y_train = labels[:training_samples]\n",
        "x_val = data[training_samples: training_samples + validation_samples]\n",
        "y_val = labels[training_samples: training_samples + validation_samples]"
      ],
      "execution_count": null,
      "outputs": [
        {
          "output_type": "stream",
          "text": [
            "Found 54896 unique tokens.\n",
            "Shape of data tensor: (547143, 25)\n",
            "Shape of label tensor: (547143,)\n"
          ],
          "name": "stdout"
        }
      ]
    },
    {
      "cell_type": "markdown",
      "metadata": {
        "id": "YdVi7sWsLw7a"
      },
      "source": [
        "Create An Embedding Layer based on the book"
      ]
    },
    {
      "cell_type": "code",
      "metadata": {
        "id": "ETVtzGf7tfAE",
        "colab": {
          "base_uri": "https://localhost:8080/",
          "height": 34
        },
        "outputId": "c59ed157-78fc-483f-9bd7-9c6fa6b6589c"
      },
      "source": [
        "import os\n",
        "embeddings_index = {}\n",
        "\n",
        "for line in glove:\n",
        "    values = line.split()\n",
        "    word = values[0]\n",
        "    coefs = np.asarray(values[1:], dtype='float32')\n",
        "    embeddings_index[word] = coefs\n",
        "f.close()\n",
        "\n",
        "print('Found %s word vectors.' % len(embeddings_index))\n",
        "\n",
        "embedding_dim = 100\n",
        "\n",
        "embedding_matrix = np.zeros((max_words, embedding_dim))\n",
        "for word, i in word_index.items():\n",
        "    embedding_vector = embeddings_index.get(word)\n",
        "    if i < max_words:\n",
        "        if embedding_vector is not None:\n",
        "            # Words not found in embedding index will be all-zeros.\n",
        "            embedding_matrix[i] = embedding_vector"
      ],
      "execution_count": null,
      "outputs": [
        {
          "output_type": "stream",
          "text": [
            "Found 400000 word vectors.\n"
          ],
          "name": "stdout"
        }
      ]
    },
    {
      "cell_type": "markdown",
      "metadata": {
        "id": "p1rVD-enNJOr"
      },
      "source": [
        "Create a base set ot layers"
      ]
    },
    {
      "cell_type": "code",
      "metadata": {
        "id": "sM4g6NGgtq6U",
        "colab": {
          "base_uri": "https://localhost:8080/",
          "height": 289
        },
        "outputId": "764c0d1c-f7c7-4256-abbb-c125b5a210f9"
      },
      "source": [
        "from keras.models import Sequential\n",
        "from keras.layers import Embedding, Flatten, Dense\n",
        "\n",
        "model = Sequential()\n",
        "model.add(Embedding(max_words, embedding_dim, input_length=maxlen))\n",
        "model.add(Flatten())\n",
        "model.add(Dense(32, activation='relu'))\n",
        "model.add(Dense(1, activation='sigmoid'))\n",
        "model.summary()"
      ],
      "execution_count": null,
      "outputs": [
        {
          "output_type": "stream",
          "text": [
            "Model: \"sequential_2\"\n",
            "_________________________________________________________________\n",
            "Layer (type)                 Output Shape              Param #   \n",
            "=================================================================\n",
            "embedding_3 (Embedding)      (None, 25, 100)           1000000   \n",
            "_________________________________________________________________\n",
            "flatten_1 (Flatten)          (None, 2500)              0         \n",
            "_________________________________________________________________\n",
            "dense_1 (Dense)              (None, 32)                80032     \n",
            "_________________________________________________________________\n",
            "dense_2 (Dense)              (None, 1)                 33        \n",
            "=================================================================\n",
            "Total params: 1,080,065\n",
            "Trainable params: 1,080,065\n",
            "Non-trainable params: 0\n",
            "_________________________________________________________________\n"
          ],
          "name": "stdout"
        }
      ]
    },
    {
      "cell_type": "markdown",
      "metadata": {
        "id": "_Im2A4VlNO4T"
      },
      "source": [
        "Then set the first layer to an embedding layer we made and make it untrainable"
      ]
    },
    {
      "cell_type": "code",
      "metadata": {
        "id": "zQ7sDt7KtuaP"
      },
      "source": [
        "model.layers[0].set_weights([embedding_matrix])\n",
        "model.layers[0].trainable = False"
      ],
      "execution_count": null,
      "outputs": []
    },
    {
      "cell_type": "code",
      "metadata": {
        "id": "jpTPFfMjty0b",
        "colab": {
          "base_uri": "https://localhost:8080/",
          "height": 374
        },
        "outputId": "447f4550-a867-48b0-baf2-6e3b1dcb0940"
      },
      "source": [
        "model.compile(optimizer='rmsprop',\n",
        "              loss='binary_crossentropy',\n",
        "              metrics=['acc'])\n",
        "history = model.fit(x_train, y_train,\n",
        "                    epochs=10,\n",
        "                    batch_size=32,\n",
        "                    validation_data=(x_val, y_val))"
      ],
      "execution_count": null,
      "outputs": [
        {
          "output_type": "stream",
          "text": [
            "Train on 20000 samples, validate on 10000 samples\n",
            "Epoch 1/10\n",
            "20000/20000 [==============================] - 3s 169us/step - loss: 0.4882 - acc: 0.8120 - val_loss: 0.4746 - val_acc: 0.8192\n",
            "Epoch 2/10\n",
            "20000/20000 [==============================] - 2s 95us/step - loss: 0.4665 - acc: 0.8134 - val_loss: 0.4747 - val_acc: 0.8194\n",
            "Epoch 3/10\n",
            "20000/20000 [==============================] - 2s 91us/step - loss: 0.4508 - acc: 0.8142 - val_loss: 0.4805 - val_acc: 0.8188\n",
            "Epoch 4/10\n",
            "20000/20000 [==============================] - 2s 90us/step - loss: 0.4320 - acc: 0.8153 - val_loss: 0.4996 - val_acc: 0.8188\n",
            "Epoch 5/10\n",
            "20000/20000 [==============================] - 2s 90us/step - loss: 0.4106 - acc: 0.8196 - val_loss: 0.5227 - val_acc: 0.8175\n",
            "Epoch 6/10\n",
            "20000/20000 [==============================] - 2s 90us/step - loss: 0.3895 - acc: 0.8271 - val_loss: 0.5283 - val_acc: 0.8131\n",
            "Epoch 7/10\n",
            "20000/20000 [==============================] - 2s 89us/step - loss: 0.3660 - acc: 0.8389 - val_loss: 0.5556 - val_acc: 0.8094\n",
            "Epoch 8/10\n",
            "20000/20000 [==============================] - 2s 91us/step - loss: 0.3422 - acc: 0.8526 - val_loss: 0.5729 - val_acc: 0.7937\n",
            "Epoch 9/10\n",
            "20000/20000 [==============================] - 2s 92us/step - loss: 0.3160 - acc: 0.8652 - val_loss: 0.6114 - val_acc: 0.7861\n",
            "Epoch 10/10\n",
            "20000/20000 [==============================] - 2s 92us/step - loss: 0.2914 - acc: 0.8777 - val_loss: 0.6456 - val_acc: 0.7801\n"
          ],
          "name": "stdout"
        }
      ]
    },
    {
      "cell_type": "code",
      "metadata": {
        "id": "8BREZ91Ut6_r",
        "colab": {
          "base_uri": "https://localhost:8080/",
          "height": 545
        },
        "outputId": "79e25922-5fda-418f-a020-beff070b8a3f"
      },
      "source": [
        "import matplotlib.pyplot as plt\n",
        "\n",
        "acc = history.history['acc']\n",
        "val_acc = history.history['val_acc']\n",
        "loss = history.history['loss']\n",
        "val_loss = history.history['val_loss']\n",
        "\n",
        "epochs = range(1, len(acc) + 1)\n",
        "\n",
        "plt.plot(epochs, acc, 'bo', label='Training acc')\n",
        "plt.plot(epochs, val_acc, 'b', label='Validation acc')\n",
        "plt.title('Training and validation accuracy')\n",
        "plt.legend()\n",
        "\n",
        "plt.figure()\n",
        "\n",
        "plt.plot(epochs, loss, 'bo', label='Training loss')\n",
        "plt.plot(epochs, val_loss, 'b', label='Validation loss')\n",
        "plt.title('Training and validation loss')\n",
        "plt.legend()\n",
        "\n",
        "plt.show()"
      ],
      "execution_count": null,
      "outputs": [
        {
          "output_type": "display_data",
          "data": {
            "image/png": "[encoded data removed]",
            "text/plain": [
              "<Figure size 432x288 with 1 Axes>"
            ]
          },
          "metadata": {
            "tags": [],
            "needs_background": "light"
          }
        },
        {
          "output_type": "display_data",
          "data": {
            "image/png": "[encoded data removed]",
            "text/plain": [
              "<Figure size 432x288 with 1 Axes>"
            ]
          },
          "metadata": {
            "tags": [],
            "needs_background": "light"
          }
        }
      ]
    },
    {
      "cell_type": "markdown",
      "metadata": {
        "id": "uOTDqiJvNdgb"
      },
      "source": [
        "Make a set of layers but keep the embedding layer unlocked"
      ]
    },
    {
      "cell_type": "code",
      "metadata": {
        "id": "HB1auonXt_Lb",
        "colab": {
          "base_uri": "https://localhost:8080/",
          "height": 680
        },
        "outputId": "7e50dbfe-2758-4df4-eaec-d18b763ba4d2"
      },
      "source": [
        "from keras.models import Sequential\n",
        "from keras.layers import Embedding, Flatten, Dense\n",
        "\n",
        "model = Sequential()\n",
        "model.add(Embedding(max_words, embedding_dim, input_length=maxlen))\n",
        "model.add(Flatten())\n",
        "model.add(Dense(32, activation='relu'))\n",
        "model.add(Dense(1, activation='sigmoid'))\n",
        "model.summary()\n",
        "\n",
        "model.compile(optimizer='rmsprop',\n",
        "              loss='binary_crossentropy',\n",
        "              metrics=['acc'])\n",
        "history = model.fit(x_train, y_train,\n",
        "                    epochs=10,\n",
        "                    batch_size=32,\n",
        "                    validation_data=(x_val, y_val))"
      ],
      "execution_count": null,
      "outputs": [
        {
          "output_type": "stream",
          "text": [
            "Model: \"sequential_3\"\n",
            "_________________________________________________________________\n",
            "Layer (type)                 Output Shape              Param #   \n",
            "=================================================================\n",
            "embedding_4 (Embedding)      (None, 25, 100)           1000000   \n",
            "_________________________________________________________________\n",
            "flatten_2 (Flatten)          (None, 2500)              0         \n",
            "_________________________________________________________________\n",
            "dense_3 (Dense)              (None, 32)                80032     \n",
            "_________________________________________________________________\n",
            "dense_4 (Dense)              (None, 1)                 33        \n",
            "=================================================================\n",
            "Total params: 1,080,065\n",
            "Trainable params: 1,080,065\n",
            "Non-trainable params: 0\n",
            "_________________________________________________________________\n"
          ],
          "name": "stdout"
        },
        {
          "output_type": "stream",
          "text": [
            "/usr/local/lib/python3.6/dist-packages/tensorflow/python/framework/indexed_slices.py:434: UserWarning: Converting sparse IndexedSlices to a dense Tensor of unknown shape. This may consume a large amount of memory.\n",
            "  \"Converting sparse IndexedSlices to a dense Tensor of unknown shape. \"\n"
          ],
          "name": "stderr"
        },
        {
          "output_type": "stream",
          "text": [
            "Train on 20000 samples, validate on 10000 samples\n",
            "Epoch 1/10\n",
            "20000/20000 [==============================] - 7s 368us/step - loss: 0.4777 - acc: 0.8123 - val_loss: 0.4636 - val_acc: 0.8193\n",
            "Epoch 2/10\n",
            "20000/20000 [==============================] - 7s 352us/step - loss: 0.4435 - acc: 0.8148 - val_loss: 0.4785 - val_acc: 0.8118\n",
            "Epoch 3/10\n",
            "20000/20000 [==============================] - 7s 348us/step - loss: 0.3881 - acc: 0.8378 - val_loss: 0.5236 - val_acc: 0.7906\n",
            "Epoch 4/10\n",
            "20000/20000 [==============================] - 7s 346us/step - loss: 0.3224 - acc: 0.8722 - val_loss: 0.5912 - val_acc: 0.7683\n",
            "Epoch 5/10\n",
            "20000/20000 [==============================] - 7s 354us/step - loss: 0.2699 - acc: 0.8943 - val_loss: 0.6599 - val_acc: 0.7519\n",
            "Epoch 6/10\n",
            "20000/20000 [==============================] - 7s 352us/step - loss: 0.2308 - acc: 0.9101 - val_loss: 0.7433 - val_acc: 0.7400\n",
            "Epoch 7/10\n",
            "20000/20000 [==============================] - 7s 352us/step - loss: 0.2031 - acc: 0.9230 - val_loss: 0.8317 - val_acc: 0.6925\n",
            "Epoch 8/10\n",
            "20000/20000 [==============================] - 7s 361us/step - loss: 0.1809 - acc: 0.9319 - val_loss: 0.8830 - val_acc: 0.6874\n",
            "Epoch 9/10\n",
            "20000/20000 [==============================] - 7s 367us/step - loss: 0.1625 - acc: 0.9404 - val_loss: 0.9229 - val_acc: 0.7026\n",
            "Epoch 10/10\n",
            "20000/20000 [==============================] - 7s 368us/step - loss: 0.1497 - acc: 0.9451 - val_loss: 0.9631 - val_acc: 0.7074\n"
          ],
          "name": "stdout"
        }
      ]
    },
    {
      "cell_type": "code",
      "metadata": {
        "id": "AFtKGi0huTPD",
        "colab": {
          "base_uri": "https://localhost:8080/",
          "height": 545
        },
        "outputId": "7be4df24-7897-4e14-a445-4f2816ae9487"
      },
      "source": [
        "acc = history.history['acc']\n",
        "val_acc = history.history['val_acc']\n",
        "loss = history.history['loss']\n",
        "val_loss = history.history['val_loss']\n",
        "\n",
        "epochs = range(1, len(acc) + 1)\n",
        "\n",
        "plt.plot(epochs, acc, 'bo', label='Training acc')\n",
        "plt.plot(epochs, val_acc, 'b', label='Validation acc')\n",
        "plt.title('Training and validation accuracy')\n",
        "plt.legend()\n",
        "\n",
        "plt.figure()\n",
        "\n",
        "plt.plot(epochs, loss, 'bo', label='Training loss')\n",
        "plt.plot(epochs, val_loss, 'b', label='Validation loss')\n",
        "plt.title('Training and validation loss')\n",
        "plt.legend()\n",
        "\n",
        "plt.show()"
      ],
      "execution_count": null,
      "outputs": [
        {
          "output_type": "display_data",
          "data": {
            "image/png": "[encoded data removed]",
            "text/plain": [
              "<Figure size 432x288 with 1 Axes>"
            ]
          },
          "metadata": {
            "tags": [],
            "needs_background": "light"
          }
        },
        {
          "output_type": "display_data",
          "data": {
            "image/png": "[encoded data removed]",
            "text/plain": [
              "<Figure size 432x288 with 1 Axes>"
            ]
          },
          "metadata": {
            "tags": [],
            "needs_background": "light"
          }
        }
      ]
    },
    {
      "cell_type": "markdown",
      "metadata": {
        "id": "vuFhKYnDwBtF"
      },
      "source": [
        "Further ways to improve this model would be include other factors such as the number of views on the question, the tags, or even the rateing of the question owner. \n",
        "\n",
        "Simple data such as the views or the rating could be done using a dense network. Data such as the tags might also be used in a dense network by using a dictionary.\n",
        "\n",
        "The results of these models could be merged to improve accuracy even further."
      ]
    },
    {
      "cell_type": "markdown",
      "metadata": {
        "id": "b-gFsP7B1_eA"
      },
      "source": [
        "\n",
        "\n",
        "---\n",
        "\n",
        "\n",
        "We can try training on view count:\n"
      ]
    },
    {
      "cell_type": "code",
      "metadata": {
        "id": "7x6OSQt7aZkz"
      },
      "source": [
        "views = questions['view_count']\n",
        "\n",
        "\n",
        "training_samples = 20000  # We will be training on 20k samples\n",
        "validation_samples = 10000  # We will be validating on 10k samples\n",
        "\n",
        "\n",
        "x_train_views = views[:training_samples]\n",
        "y_train_views = labels[:training_samples]\n",
        "x_val_views = views[training_samples: training_samples + validation_samples]\n",
        "y_val_views = labels[training_samples: training_samples + validation_samples]"
      ],
      "execution_count": null,
      "outputs": []
    },
    {
      "cell_type": "code",
      "metadata": {
        "id": "0l6AFIsSK68J",
        "colab": {
          "base_uri": "https://localhost:8080/",
          "height": 714
        },
        "outputId": "0bfc1fba-978d-45a2-b021-a978b52be53b"
      },
      "source": [
        "from keras import models\n",
        "from keras import layers\n",
        "\n",
        "model = models.Sequential()\n",
        "model.add(layers.Dense(16, activation='relu', input_shape=(1,)))\n",
        "model.add(layers.Dense(16, activation='relu'))\n",
        "model.add(layers.Dense(1, activation='sigmoid'))\n",
        "\n",
        "model.compile(optimizer='rmsprop',\n",
        "              loss='binary_crossentropy',\n",
        "              metrics=['accuracy'])\n",
        "\n",
        "history = model.fit(x_train_views,\n",
        "                    y_train_views,\n",
        "                    epochs=20,\n",
        "                    batch_size=512,\n",
        "                    validation_data=(x_val_views, y_val_views))"
      ],
      "execution_count": null,
      "outputs": [
        {
          "output_type": "stream",
          "text": [
            "Train on 20000 samples, validate on 10000 samples\n",
            "Epoch 1/20\n",
            "20000/20000 [==============================] - 0s 7us/step - loss: 1285.4128 - accuracy: 0.3964 - val_loss: 24.2558 - val_accuracy: 0.8193\n",
            "Epoch 2/20\n",
            "20000/20000 [==============================] - 0s 4us/step - loss: 29.6592 - accuracy: 0.6993 - val_loss: 26.0409 - val_accuracy: 0.8193\n",
            "Epoch 3/20\n",
            "20000/20000 [==============================] - 0s 4us/step - loss: 32.7861 - accuracy: 0.7021 - val_loss: 8.6900 - val_accuracy: 0.8193\n",
            "Epoch 4/20\n",
            "20000/20000 [==============================] - 0s 4us/step - loss: 33.7133 - accuracy: 0.7025 - val_loss: 23.3248 - val_accuracy: 0.8193\n",
            "Epoch 5/20\n",
            "20000/20000 [==============================] - 0s 4us/step - loss: 35.1141 - accuracy: 0.6862 - val_loss: 22.3408 - val_accuracy: 0.8193\n",
            "Epoch 6/20\n",
            "20000/20000 [==============================] - 0s 4us/step - loss: 31.8603 - accuracy: 0.7049 - val_loss: 22.8808 - val_accuracy: 0.8193\n",
            "Epoch 7/20\n",
            "20000/20000 [==============================] - 0s 4us/step - loss: 34.8470 - accuracy: 0.6892 - val_loss: 5.4216 - val_accuracy: 0.8193\n",
            "Epoch 8/20\n",
            "20000/20000 [==============================] - 0s 4us/step - loss: 36.0819 - accuracy: 0.7056 - val_loss: 23.7902 - val_accuracy: 0.8193\n",
            "Epoch 9/20\n",
            "20000/20000 [==============================] - 0s 4us/step - loss: 33.4355 - accuracy: 0.6945 - val_loss: 17.0516 - val_accuracy: 0.8193\n",
            "Epoch 10/20\n",
            "20000/20000 [==============================] - 0s 4us/step - loss: 32.9440 - accuracy: 0.7088 - val_loss: 42.1330 - val_accuracy: 0.8193\n",
            "Epoch 11/20\n",
            "20000/20000 [==============================] - 0s 4us/step - loss: 32.6065 - accuracy: 0.7023 - val_loss: 1.4555 - val_accuracy: 0.5163\n",
            "Epoch 12/20\n",
            "20000/20000 [==============================] - 0s 4us/step - loss: 32.2073 - accuracy: 0.7049 - val_loss: 18.1675 - val_accuracy: 0.8193\n",
            "Epoch 13/20\n",
            "20000/20000 [==============================] - 0s 4us/step - loss: 33.3736 - accuracy: 0.7018 - val_loss: 12.6353 - val_accuracy: 0.8193\n",
            "Epoch 14/20\n",
            "20000/20000 [==============================] - 0s 4us/step - loss: 35.9759 - accuracy: 0.6859 - val_loss: 30.8916 - val_accuracy: 0.8193\n",
            "Epoch 15/20\n",
            "20000/20000 [==============================] - 0s 4us/step - loss: 32.1850 - accuracy: 0.7104 - val_loss: 47.0562 - val_accuracy: 0.8193\n",
            "Epoch 16/20\n",
            "20000/20000 [==============================] - 0s 4us/step - loss: 36.8931 - accuracy: 0.7311 - val_loss: 15.3327 - val_accuracy: 0.8193\n",
            "Epoch 17/20\n",
            "20000/20000 [==============================] - 0s 4us/step - loss: 30.3797 - accuracy: 0.6852 - val_loss: 3.7043 - val_accuracy: 0.8193\n",
            "Epoch 18/20\n",
            "20000/20000 [==============================] - 0s 4us/step - loss: 30.3541 - accuracy: 0.6881 - val_loss: 46.6466 - val_accuracy: 0.1811\n",
            "Epoch 19/20\n",
            "20000/20000 [==============================] - 0s 4us/step - loss: 33.3510 - accuracy: 0.6744 - val_loss: 76.5741 - val_accuracy: 0.1807\n",
            "Epoch 20/20\n",
            "20000/20000 [==============================] - 0s 4us/step - loss: 30.1338 - accuracy: 0.6897 - val_loss: 56.0915 - val_accuracy: 0.1813\n"
          ],
          "name": "stdout"
        }
      ]
    },
    {
      "cell_type": "code",
      "metadata": {
        "id": "GIsq4sVNphJO",
        "colab": {
          "base_uri": "https://localhost:8080/",
          "height": 545
        },
        "outputId": "2de953e9-cb50-4b50-b653-1dfd26e84e74"
      },
      "source": [
        "acc = history.history['accuracy']\n",
        "val_acc = history.history['val_accuracy']\n",
        "loss = history.history['loss']\n",
        "val_loss = history.history['val_loss']\n",
        "\n",
        "epochs = range(1, len(acc) + 1)\n",
        "\n",
        "plt.plot(epochs, acc, 'bo', label='Training acc')\n",
        "plt.plot(epochs, val_acc, 'b', label='Validation acc')\n",
        "plt.title('Training and validation accuracy')\n",
        "plt.legend()\n",
        "\n",
        "plt.figure()\n",
        "\n",
        "plt.plot(epochs, loss, 'bo', label='Training loss')\n",
        "plt.plot(epochs, val_loss, 'b', label='Validation loss')\n",
        "plt.title('Training and validation loss')\n",
        "plt.legend()\n",
        "\n",
        "plt.show()"
      ],
      "execution_count": null,
      "outputs": [
        {
          "output_type": "display_data",
          "data": {
            "image/png": "[encoded data removed]",
            "text/plain": [
              "<Figure size 432x288 with 1 Axes>"
            ]
          },
          "metadata": {
            "tags": [],
            "needs_background": "light"
          }
        },
        {
          "output_type": "display_data",
          "data": {
            "image/png": "[encoded data removed]",
            "text/plain": [
              "<Figure size 432x288 with 1 Axes>"
            ]
          },
          "metadata": {
            "tags": [],
            "needs_background": "light"
          }
        }
      ]
    },
    {
      "cell_type": "markdown",
      "metadata": {
        "id": "LuJ3jW0n2Nzv"
      },
      "source": [
        "Or Answer Count"
      ]
    },
    {
      "cell_type": "code",
      "metadata": {
        "id": "Fn0YOnSfqWxy"
      },
      "source": [
        "answer_count = questions['answer_count']\n",
        "\n",
        "training_samples = 20000  # We will be training on 20k samples\n",
        "validation_samples = 10000  # We will be validating on 10k samples\n",
        "\n",
        "\n",
        "x_train_answer_count = views[:training_samples]\n",
        "y_train_answer_count = labels[:training_samples]\n",
        "x_val_answer_count = views[training_samples: training_samples + validation_samples]\n",
        "y_val_answer_count = labels[training_samples: training_samples + validation_samples]"
      ],
      "execution_count": null,
      "outputs": []
    },
    {
      "cell_type": "code",
      "metadata": {
        "id": "b3jmBCIvqzNi",
        "colab": {
          "base_uri": "https://localhost:8080/",
          "height": 714
        },
        "outputId": "82e7afdd-da21-4b9b-abfb-713bb6461729"
      },
      "source": [
        "from keras import models\n",
        "from keras import layers\n",
        "\n",
        "model = models.Sequential()\n",
        "model.add(layers.Dense(16, activation='relu', input_shape=(1,)))\n",
        "model.add(layers.Dense(16, activation='relu'))\n",
        "model.add(layers.Dense(1, activation='sigmoid'))\n",
        "\n",
        "model.compile(optimizer='rmsprop',\n",
        "              loss='binary_crossentropy',\n",
        "              metrics=['accuracy'])\n",
        "\n",
        "history = model.fit(x_train_answer_count,\n",
        "                    y_train_answer_count,\n",
        "                    epochs=20,\n",
        "                    batch_size=512,\n",
        "                    validation_data=(x_val_answer_count, y_val_answer_count))"
      ],
      "execution_count": null,
      "outputs": [
        {
          "output_type": "stream",
          "text": [
            "Train on 20000 samples, validate on 10000 samples\n",
            "Epoch 1/20\n",
            "20000/20000 [==============================] - 0s 8us/step - loss: 9701.4851 - accuracy: 0.1870 - val_loss: 2584.4592 - val_accuracy: 0.1807\n",
            "Epoch 2/20\n",
            "20000/20000 [==============================] - 0s 4us/step - loss: 2138.6917 - accuracy: 0.2666 - val_loss: 32.1175 - val_accuracy: 0.8193\n",
            "Epoch 3/20\n",
            "20000/20000 [==============================] - 0s 4us/step - loss: 26.0391 - accuracy: 0.7110 - val_loss: 15.4183 - val_accuracy: 0.8193\n",
            "Epoch 4/20\n",
            "20000/20000 [==============================] - 0s 4us/step - loss: 30.9744 - accuracy: 0.6909 - val_loss: 58.3521 - val_accuracy: 0.1823\n",
            "Epoch 5/20\n",
            "20000/20000 [==============================] - 0s 4us/step - loss: 30.6095 - accuracy: 0.6771 - val_loss: 19.9285 - val_accuracy: 0.8193\n",
            "Epoch 6/20\n",
            "20000/20000 [==============================] - 0s 4us/step - loss: 29.8192 - accuracy: 0.7102 - val_loss: 9.3729 - val_accuracy: 0.8193\n",
            "Epoch 7/20\n",
            "20000/20000 [==============================] - 0s 4us/step - loss: 29.6462 - accuracy: 0.7154 - val_loss: 13.4281 - val_accuracy: 0.8193\n",
            "Epoch 8/20\n",
            "20000/20000 [==============================] - 0s 4us/step - loss: 29.8063 - accuracy: 0.6911 - val_loss: 17.8283 - val_accuracy: 0.8193\n",
            "Epoch 9/20\n",
            "20000/20000 [==============================] - 0s 4us/step - loss: 28.2237 - accuracy: 0.7036 - val_loss: 3.7139 - val_accuracy: 0.8193\n",
            "Epoch 10/20\n",
            "20000/20000 [==============================] - 0s 4us/step - loss: 27.1036 - accuracy: 0.6896 - val_loss: 1.7647 - val_accuracy: 0.8193\n",
            "Epoch 11/20\n",
            "20000/20000 [==============================] - 0s 4us/step - loss: 44.4868 - accuracy: 0.6947 - val_loss: 3.0169 - val_accuracy: 0.8193\n",
            "Epoch 12/20\n",
            "20000/20000 [==============================] - 0s 4us/step - loss: 38.6161 - accuracy: 0.7165 - val_loss: 5.4091 - val_accuracy: 0.8193\n",
            "Epoch 13/20\n",
            "20000/20000 [==============================] - 0s 5us/step - loss: 41.9871 - accuracy: 0.6901 - val_loss: 55.5174 - val_accuracy: 0.1835\n",
            "Epoch 14/20\n",
            "20000/20000 [==============================] - 0s 5us/step - loss: 40.2850 - accuracy: 0.7010 - val_loss: 28.5984 - val_accuracy: 0.8193\n",
            "Epoch 15/20\n",
            "20000/20000 [==============================] - 0s 5us/step - loss: 44.8815 - accuracy: 0.7341 - val_loss: 8.5805 - val_accuracy: 0.8193\n",
            "Epoch 16/20\n",
            "20000/20000 [==============================] - 0s 4us/step - loss: 39.2571 - accuracy: 0.6898 - val_loss: 12.8206 - val_accuracy: 0.8193\n",
            "Epoch 17/20\n",
            "20000/20000 [==============================] - 0s 4us/step - loss: 39.3763 - accuracy: 0.6852 - val_loss: 7.1958 - val_accuracy: 0.3154\n",
            "Epoch 18/20\n",
            "20000/20000 [==============================] - 0s 4us/step - loss: 38.5436 - accuracy: 0.7048 - val_loss: 8.0441 - val_accuracy: 0.8193\n",
            "Epoch 19/20\n",
            "20000/20000 [==============================] - 0s 4us/step - loss: 34.6308 - accuracy: 0.6846 - val_loss: 25.6623 - val_accuracy: 0.8193\n",
            "Epoch 20/20\n",
            "20000/20000 [==============================] - 0s 4us/step - loss: 38.5975 - accuracy: 0.7052 - val_loss: 36.7079 - val_accuracy: 0.8193\n"
          ],
          "name": "stdout"
        }
      ]
    },
    {
      "cell_type": "code",
      "metadata": {
        "id": "6CMskkXGq8SK",
        "colab": {
          "base_uri": "https://localhost:8080/",
          "height": 545
        },
        "outputId": "f477397c-ca70-42f0-8120-aee278903718"
      },
      "source": [
        "acc = history.history['accuracy']\n",
        "val_acc = history.history['val_accuracy']\n",
        "loss = history.history['loss']\n",
        "val_loss = history.history['val_loss']\n",
        "\n",
        "epochs = range(1, len(acc) + 1)\n",
        "\n",
        "plt.plot(epochs, acc, 'bo', label='Training acc')\n",
        "plt.plot(epochs, val_acc, 'b', label='Validation acc')\n",
        "plt.title('Training and validation accuracy')\n",
        "plt.legend()\n",
        "\n",
        "plt.figure()\n",
        "\n",
        "plt.plot(epochs, loss, 'bo', label='Training loss')\n",
        "plt.plot(epochs, val_loss, 'b', label='Validation loss')\n",
        "plt.title('Training and validation loss')\n",
        "plt.legend()\n",
        "\n",
        "plt.show()"
      ],
      "execution_count": null,
      "outputs": [
        {
          "output_type": "display_data",
          "data": {
            "image/png": "[encoded data removed]",
            "text/plain": [
              "<Figure size 432x288 with 1 Axes>"
            ]
          },
          "metadata": {
            "tags": [],
            "needs_background": "light"
          }
        },
        {
          "output_type": "display_data",
          "data": {
            "image/png": "[encoded data removed]",
            "text/plain": [
              "<Figure size 432x288 with 1 Axes>"
            ]
          },
          "metadata": {
            "tags": [],
            "needs_background": "light"
          }
        }
      ]
    },
    {
      "cell_type": "markdown",
      "metadata": {
        "id": "4fI8JPzk2RU3"
      },
      "source": [
        "Or Owner Reputation"
      ]
    },
    {
      "cell_type": "code",
      "metadata": {
        "id": "xp7TP_lSqYRS"
      },
      "source": [
        "owner_rep = questions['ower_rep']\n",
        "training_samples = 20000  # We will be training on 20k samples\n",
        "validation_samples = 10000  # We will be validating on 10k samples\n",
        "\n",
        "\n",
        "x_train_rep = views[:training_samples]\n",
        "y_train_rep = labels[:training_samples]\n",
        "x_val_rep = views[training_samples: training_samples + validation_samples]\n",
        "y_val_rep = labels[training_samples: training_samples + validation_samples]"
      ],
      "execution_count": null,
      "outputs": []
    },
    {
      "cell_type": "code",
      "metadata": {
        "id": "x-V1b1aOq_6e",
        "colab": {
          "base_uri": "https://localhost:8080/",
          "height": 714
        },
        "outputId": "f8556ca7-e90c-4f42-894c-5e6309e2a641"
      },
      "source": [
        "from keras import models\n",
        "from keras import layers\n",
        "\n",
        "model = models.Sequential()\n",
        "model.add(layers.Dense(16, activation='relu', input_shape=(1,)))\n",
        "model.add(layers.Dense(16, activation='relu'))\n",
        "model.add(layers.Dense(1, activation='sigmoid'))\n",
        "\n",
        "model.compile(optimizer='rmsprop',\n",
        "              loss='binary_crossentropy',\n",
        "              metrics=['accuracy'])\n",
        "\n",
        "history = model.fit(x_train_rep,\n",
        "                    y_train_rep,\n",
        "                    epochs=20,\n",
        "                    batch_size=512,\n",
        "                    validation_data=(x_val_rep, y_val_rep))"
      ],
      "execution_count": null,
      "outputs": [
        {
          "output_type": "stream",
          "text": [
            "Train on 20000 samples, validate on 10000 samples\n",
            "Epoch 1/20\n",
            "20000/20000 [==============================] - 0s 8us/step - loss: 1343.3802 - accuracy: 0.3272 - val_loss: 1.7746 - val_accuracy: 0.8193\n",
            "Epoch 2/20\n",
            "20000/20000 [==============================] - 0s 4us/step - loss: 22.1659 - accuracy: 0.6676 - val_loss: 36.9417 - val_accuracy: 0.8193\n",
            "Epoch 3/20\n",
            "20000/20000 [==============================] - 0s 4us/step - loss: 28.7697 - accuracy: 0.7036 - val_loss: 22.1649 - val_accuracy: 0.8193\n",
            "Epoch 4/20\n",
            "20000/20000 [==============================] - 0s 4us/step - loss: 26.5766 - accuracy: 0.6921 - val_loss: 25.6749 - val_accuracy: 0.8193\n",
            "Epoch 5/20\n",
            "20000/20000 [==============================] - 0s 4us/step - loss: 26.3158 - accuracy: 0.7128 - val_loss: 89.0643 - val_accuracy: 0.1807\n",
            "Epoch 6/20\n",
            "20000/20000 [==============================] - 0s 4us/step - loss: 23.7329 - accuracy: 0.6709 - val_loss: 3.9286 - val_accuracy: 0.8193\n",
            "Epoch 7/20\n",
            "20000/20000 [==============================] - 0s 4us/step - loss: 24.4812 - accuracy: 0.6894 - val_loss: 25.1326 - val_accuracy: 0.8193\n",
            "Epoch 8/20\n",
            "20000/20000 [==============================] - 0s 4us/step - loss: 26.5884 - accuracy: 0.6980 - val_loss: 1.5423 - val_accuracy: 0.8193\n",
            "Epoch 9/20\n",
            "20000/20000 [==============================] - 0s 4us/step - loss: 25.0016 - accuracy: 0.6894 - val_loss: 8.9631 - val_accuracy: 0.8193\n",
            "Epoch 10/20\n",
            "20000/20000 [==============================] - 0s 4us/step - loss: 26.4313 - accuracy: 0.7060 - val_loss: 127.3207 - val_accuracy: 0.1807\n",
            "Epoch 11/20\n",
            "20000/20000 [==============================] - 0s 4us/step - loss: 29.6927 - accuracy: 0.6752 - val_loss: 9.7776 - val_accuracy: 0.8193\n",
            "Epoch 12/20\n",
            "20000/20000 [==============================] - 0s 4us/step - loss: 25.5005 - accuracy: 0.6964 - val_loss: 12.3101 - val_accuracy: 0.8193\n",
            "Epoch 13/20\n",
            "20000/20000 [==============================] - 0s 4us/step - loss: 24.5215 - accuracy: 0.7019 - val_loss: 6.9730 - val_accuracy: 0.8193\n",
            "Epoch 14/20\n",
            "20000/20000 [==============================] - 0s 4us/step - loss: 29.5384 - accuracy: 0.7032 - val_loss: 21.4154 - val_accuracy: 0.8193\n",
            "Epoch 15/20\n",
            "20000/20000 [==============================] - 0s 4us/step - loss: 26.5380 - accuracy: 0.7236 - val_loss: 1.9687 - val_accuracy: 0.8193\n",
            "Epoch 16/20\n",
            "20000/20000 [==============================] - 0s 4us/step - loss: 24.4002 - accuracy: 0.6963 - val_loss: 6.0775 - val_accuracy: 0.3123\n",
            "Epoch 17/20\n",
            "20000/20000 [==============================] - 0s 4us/step - loss: 23.7553 - accuracy: 0.6995 - val_loss: 2.6569 - val_accuracy: 0.4459\n",
            "Epoch 18/20\n",
            "20000/20000 [==============================] - 0s 4us/step - loss: 26.3336 - accuracy: 0.7064 - val_loss: 24.9991 - val_accuracy: 0.8193\n",
            "Epoch 19/20\n",
            "20000/20000 [==============================] - 0s 4us/step - loss: 27.8487 - accuracy: 0.7136 - val_loss: 15.8593 - val_accuracy: 0.8193\n",
            "Epoch 20/20\n",
            "20000/20000 [==============================] - 0s 4us/step - loss: 25.7262 - accuracy: 0.6898 - val_loss: 31.0131 - val_accuracy: 0.8193\n"
          ],
          "name": "stdout"
        }
      ]
    },
    {
      "cell_type": "code",
      "metadata": {
        "id": "BqoU14KOrKhP",
        "colab": {
          "base_uri": "https://localhost:8080/",
          "height": 545
        },
        "outputId": "34fca154-9abd-4945-d4e5-02dadc26f0de"
      },
      "source": [
        "acc = history.history['accuracy']\n",
        "val_acc = history.history['val_accuracy']\n",
        "loss = history.history['loss']\n",
        "val_loss = history.history['val_loss']\n",
        "\n",
        "epochs = range(1, len(acc) + 1)\n",
        "\n",
        "plt.plot(epochs, acc, 'bo', label='Training acc')\n",
        "plt.plot(epochs, val_acc, 'b', label='Validation acc')\n",
        "plt.title('Training and validation accuracy')\n",
        "plt.legend()\n",
        "\n",
        "plt.figure()\n",
        "\n",
        "plt.plot(epochs, loss, 'bo', label='Training loss')\n",
        "plt.plot(epochs, val_loss, 'b', label='Validation loss')\n",
        "plt.title('Training and validation loss')\n",
        "plt.legend()\n",
        "\n",
        "plt.show()"
      ],
      "execution_count": null,
      "outputs": [
        {
          "output_type": "display_data",
          "data": {
            "image/png": "[encoded data removed]",
            "text/plain": [
              "<Figure size 432x288 with 1 Axes>"
            ]
          },
          "metadata": {
            "tags": [],
            "needs_background": "light"
          }
        },
        {
          "output_type": "display_data",
          "data": {
            "image/png": "[encoded data removed]",
            "text/plain": [
              "<Figure size 432x288 with 1 Axes>"
            ]
          },
          "metadata": {
            "tags": [],
            "needs_background": "light"
          }
        }
      ]
    },
    {
      "cell_type": "markdown",
      "metadata": {
        "id": "FSWquLt32cZn"
      },
      "source": [
        "\n",
        "\n",
        "---\n",
        "\n",
        "\n",
        "We can concatenate these models so that we improve the performance of the model by incorporating more data"
      ]
    },
    {
      "cell_type": "code",
      "metadata": {
        "id": "NaNca_RJ09Xl",
        "colab": {
          "base_uri": "https://localhost:8080/",
          "height": 214
        },
        "outputId": "aac6442a-ea68-445b-fc5c-a260a570b753"
      },
      "source": [
        "from keras.layers.merge import concatenate\n",
        "from keras.models import Model, Sequential\n",
        "from keras.layers import Dense, Input\n",
        "\n",
        "#View Count\n",
        "model1_in = Input(shape=(1,))\n",
        "model1_mid = Dense(16, activation='relu')(model1_in)\n",
        "model1_out = Dense(16, activation='relu')(model1_mid)\n",
        "model1 = Model(model1_in, model1_mid, model1_out)\n",
        "\n",
        "#Answer Count\n",
        "model2_in = Input(shape=(1,))\n",
        "model2_mid = Dense(16, activation='relu')(model2_in)\n",
        "model2_out = Dense(16, activation='relu')(model2_mid)\n",
        "model2 = Model(model2_in, model2_mid, model2_out)\n",
        "\n",
        "#Owner Rep\n",
        "model3_in = Input(shape=(1,))\n",
        "model3_mid = Dense(16, activation='relu')(model3_in)\n",
        "model3_out = Dense(16, activation='relu')(model3_mid)\n",
        "model3 = Model(model3_in, model3_mid, model3_out)\n",
        "\n",
        "\n",
        "concatenated = concatenate([model1_out, model2_out, model3_out])\n",
        "out = Dense(1, activation='sigmoid', name='output_layer')(concatenated)\n",
        "\n",
        "merged_model = Model([model1_in, model2_in, model3_in], out)\n",
        "merged_model.compile(loss='binary_crossentropy', optimizer='adam', \n",
        "metrics=['accuracy'])\n",
        "\n",
        "history = merged_model.fit([x_train_views, x_train_answer_count, x_train_rep], y=y_train, epochs=20,  validation_data=([x_val_views,x_val_answer_count,x_val_rep], y_val))"
      ],
      "execution_count": null,
      "outputs": [
        {
          "output_type": "stream",
          "text": [
            "Using TensorFlow backend.\n"
          ],
          "name": "stderr"
        },
        {
          "output_type": "error",
          "ename": "NameError",
          "evalue": "ignored",
          "traceback": [
            "\u001b[0;31m---------------------------------------------------------------------------\u001b[0m",
            "\u001b[0;31mNameError\u001b[0m                                 Traceback (most recent call last)",
            "\u001b[0;32m<ipython-input-1-76f26eb05718>\u001b[0m in \u001b[0;36m<module>\u001b[0;34m()\u001b[0m\n\u001b[1;32m     29\u001b[0m metrics=['accuracy'])\n\u001b[1;32m     30\u001b[0m \u001b[0;34m\u001b[0m\u001b[0m\n\u001b[0;32m---> 31\u001b[0;31m \u001b[0mhistory\u001b[0m \u001b[0;34m=\u001b[0m \u001b[0mmerged_model\u001b[0m\u001b[0;34m.\u001b[0m\u001b[0mfit\u001b[0m\u001b[0;34m(\u001b[0m\u001b[0;34m[\u001b[0m\u001b[0mx_train_views\u001b[0m\u001b[0;34m,\u001b[0m \u001b[0mx_train_answer_count\u001b[0m\u001b[0;34m,\u001b[0m \u001b[0mx_train_rep\u001b[0m\u001b[0;34m]\u001b[0m\u001b[0;34m,\u001b[0m \u001b[0my\u001b[0m\u001b[0;34m=\u001b[0m\u001b[0my_train\u001b[0m\u001b[0;34m,\u001b[0m \u001b[0mepochs\u001b[0m\u001b[0;34m=\u001b[0m\u001b[0;36m20\u001b[0m\u001b[0;34m,\u001b[0m  \u001b[0mvalidation_data\u001b[0m\u001b[0;34m=\u001b[0m\u001b[0;34m(\u001b[0m\u001b[0;34m[\u001b[0m\u001b[0mx_val_views\u001b[0m\u001b[0;34m,\u001b[0m\u001b[0mx_val_answer_count\u001b[0m\u001b[0;34m,\u001b[0m\u001b[0mx_val_rep\u001b[0m\u001b[0;34m]\u001b[0m\u001b[0;34m,\u001b[0m \u001b[0my_val\u001b[0m\u001b[0;34m)\u001b[0m\u001b[0;34m)\u001b[0m\u001b[0;34m\u001b[0m\u001b[0;34m\u001b[0m\u001b[0m\n\u001b[0m",
            "\u001b[0;31mNameError\u001b[0m: name 'x_train_views' is not defined"
          ]
        }
      ]
    },
    {
      "cell_type": "code",
      "metadata": {
        "id": "XW_gQAnO1SFf",
        "colab": {
          "base_uri": "https://localhost:8080/",
          "height": 545
        },
        "outputId": "1205115b-4c6f-413a-bb7c-ce9e2666e2d1"
      },
      "source": [
        "acc = history.history['accuracy']\n",
        "val_acc = history.history['val_accuracy']\n",
        "loss = history.history['loss']\n",
        "val_loss = history.history['val_loss']\n",
        "\n",
        "epochs = range(1, len(acc) + 1)\n",
        "\n",
        "plt.plot(epochs, acc, 'bo', label='Training acc')\n",
        "plt.plot(epochs, val_acc, 'b', label='Validation acc')\n",
        "plt.title('Training and validation accuracy')\n",
        "plt.legend()\n",
        "\n",
        "plt.figure()\n",
        "\n",
        "plt.plot(epochs, loss, 'bo', label='Training loss')\n",
        "plt.plot(epochs, val_loss, 'b', label='Validation loss')\n",
        "plt.title('Training and validation loss')\n",
        "plt.legend()\n",
        "\n",
        "plt.show()"
      ],
      "execution_count": null,
      "outputs": [
        {
          "output_type": "display_data",
          "data": {
            "image/png": "[encoded data removed]",
            "text/plain": [
              "<Figure size 432x288 with 1 Axes>"
            ]
          },
          "metadata": {
            "tags": [],
            "needs_background": "light"
          }
        },
        {
          "output_type": "display_data",
          "data": {
            "image/png": "[encoded data removed]",
            "text/plain": [
              "<Figure size 432x288 with 1 Axes>"
            ]
          },
          "metadata": {
            "tags": [],
            "needs_background": "light"
          }
        }
      ]
    },
    {
      "cell_type": "markdown",
      "metadata": {
        "id": "W6pURu062sYd"
      },
      "source": [
        "This is still broken. Not sure how to concatenate embedding layers yet"
      ]
    },
    {
      "cell_type": "code",
      "metadata": {
        "id": "rdkZQGjLu9Kb"
      },
      "source": [
        "from keras.layers.merge import concatenate\n",
        "from keras.models import Model, Sequential\n",
        "from keras.layers import Dense, Input\n",
        "\n",
        "model_in = Embedding(max_words, embedding_dim, input_length=maxlen)\n",
        "model_mid = Flatten()\n",
        "model_mid2 = Dense(32, activation='relu')\n",
        "model_out = Dense(1, activation='sigmoid')\n",
        "model = Model(model_in, model_mid, model_mid2, model_out)\n",
        "\n",
        "#View Count\n",
        "model1_in = Input(shape=(1,))\n",
        "model1_mid = Dense(16, activation='relu')(model1_in)\n",
        "model1_out = Dense(16, activation='relu')(model1_mid)\n",
        "model1 = Model(model1_in, model1_mid, model1_out)\n",
        "\n",
        "#Answer Count\n",
        "model2_in = Input(shape=(1,))\n",
        "model2_mid = Dense(16, activation='relu')(model2_in)\n",
        "model2_out = Dense(16, activation='relu')(model2_mid)\n",
        "model2 = Model(model2_in, model2_mid, model2_out)\n",
        "\n",
        "#Owner Rep\n",
        "model3_in = Input(shape=(1,))\n",
        "model3_mid = Dense(16, activation='relu')(model3_in)\n",
        "model3_out = Dense(16, activation='relu')(model3_mid)\n",
        "model3 = Model(model3_in, model3_mid, model3_out)\n",
        "\n",
        "\n",
        "concatenated = concatenate([model_out,model1_out, model2_out, model3_out])\n",
        "out = Dense(1, activation='sigmoid', name='output_layer')(concatenated)\n",
        "\n",
        "merged_model = Model([model_in, model1_in, model2_in, model3_in], out)\n",
        "merged_model.compile(loss='binary_crossentropy', optimizer='adam', \n",
        "metrics=['accuracy'])\n",
        "\n",
        "history = merged_model.fit([x_train,x_train_views, x_train_answer_count, x_train_rep], y=y_train, epochs=20,  validation_data=([x_val,x_val_views,x_val_answer_count,x_val_rep], y_val))"
      ],
      "execution_count": null,
      "outputs": []
    }
  ]
}